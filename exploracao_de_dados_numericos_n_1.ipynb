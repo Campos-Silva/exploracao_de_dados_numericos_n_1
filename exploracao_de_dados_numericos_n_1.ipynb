{
  "nbformat": 4,
  "nbformat_minor": 0,
  "metadata": {
    "colab": {
      "name": "exploracao_de_dados_n_2.ipynb",
      "provenance": [],
      "collapsed_sections": []
    },
    "kernelspec": {
      "name": "python3",
      "display_name": "Python 3"
    }
  },
  "cells": [
    {
      "cell_type": "markdown",
      "metadata": {
        "id": "5KMbnuT5idDq"
      },
      "source": [
        "#Explorando dados numéricos de um dataset do Kaggle"
      ]
    },
    {
      "cell_type": "markdown",
      "metadata": {
        "id": "MyqlSYHJjNQX"
      },
      "source": [
        "Explorarei dados de **carros usados** do site: https://www.kaggle.com/nehalbirla/vehicle-dataset-from-cardekho"
      ]
    },
    {
      "cell_type": "markdown",
      "metadata": {
        "id": "diQk7eYXneNr"
      },
      "source": [
        "# **Irei checar os seguintes tópicos nesse Dataset:**\n",
        "\n",
        "1 - Quantidade de linhas e colunas do Dataset;\n",
        "\n",
        "2 - Valores totais de uma coluna que possui valores numéricos. Escolhi para isso a coluna de \"Preço de venda\";\n",
        "\n",
        "3 - Valores únicos para o conjunto de \"Preço de venda\";\n",
        "\n",
        "4 - Quantidade de vezes que esses valores únicos de \"Preço de venda\" aparecem;\n",
        "\n",
        "5 - Visualização dos valores de \"Preços de vendas\" através de **histograma** e **boxplot**;\n",
        "\n",
        "6 - Dados descritivos, como média, mediana, desvio padrão, valores máximo e mínimo, entre outros; \n",
        "\n"
      ]
    },
    {
      "cell_type": "markdown",
      "metadata": {
        "id": "MDRwGW8PpMsH"
      },
      "source": [
        "Importando o Dataset"
      ]
    },
    {
      "cell_type": "code",
      "metadata": {
        "id": "RZCb59Gto6RO"
      },
      "source": [
        "#Vou trabalhar com a biblioteca pandas para explorar meu conjunto de dados\n",
        "\n",
        "import pandas as pd"
      ],
      "execution_count": 25,
      "outputs": []
    },
    {
      "cell_type": "code",
      "metadata": {
        "id": "sdFyRFfSjbbD"
      },
      "source": [
        "#Agora vou puxar o meu conjunto de dados\n",
        "\n",
        "carros = pd.read_csv(\"car data.csv\")"
      ],
      "execution_count": 26,
      "outputs": []
    },
    {
      "cell_type": "code",
      "metadata": {
        "id": "2lLLIGmNpRmb",
        "colab": {
          "base_uri": "https://localhost:8080/",
          "height": 195
        },
        "outputId": "934d6b82-725a-4268-876b-9982fa2fa147"
      },
      "source": [
        "#Quero visualizar apenas as cinco primeiras linhas desse Dataset\n",
        "\n",
        "carros.head()"
      ],
      "execution_count": 27,
      "outputs": [
        {
          "output_type": "execute_result",
          "data": {
            "text/html": [
              "<div>\n",
              "<style scoped>\n",
              "    .dataframe tbody tr th:only-of-type {\n",
              "        vertical-align: middle;\n",
              "    }\n",
              "\n",
              "    .dataframe tbody tr th {\n",
              "        vertical-align: top;\n",
              "    }\n",
              "\n",
              "    .dataframe thead th {\n",
              "        text-align: right;\n",
              "    }\n",
              "</style>\n",
              "<table border=\"1\" class=\"dataframe\">\n",
              "  <thead>\n",
              "    <tr style=\"text-align: right;\">\n",
              "      <th></th>\n",
              "      <th>Car_Name</th>\n",
              "      <th>Year</th>\n",
              "      <th>Selling_Price</th>\n",
              "      <th>Present_Price</th>\n",
              "      <th>Kms_Driven</th>\n",
              "      <th>Fuel_Type</th>\n",
              "      <th>Seller_Type</th>\n",
              "      <th>Transmission</th>\n",
              "      <th>Owner</th>\n",
              "    </tr>\n",
              "  </thead>\n",
              "  <tbody>\n",
              "    <tr>\n",
              "      <th>0</th>\n",
              "      <td>ritz</td>\n",
              "      <td>2014</td>\n",
              "      <td>3.35</td>\n",
              "      <td>5.59</td>\n",
              "      <td>27000</td>\n",
              "      <td>Petrol</td>\n",
              "      <td>Dealer</td>\n",
              "      <td>Manual</td>\n",
              "      <td>0</td>\n",
              "    </tr>\n",
              "    <tr>\n",
              "      <th>1</th>\n",
              "      <td>sx4</td>\n",
              "      <td>2013</td>\n",
              "      <td>4.75</td>\n",
              "      <td>9.54</td>\n",
              "      <td>43000</td>\n",
              "      <td>Diesel</td>\n",
              "      <td>Dealer</td>\n",
              "      <td>Manual</td>\n",
              "      <td>0</td>\n",
              "    </tr>\n",
              "    <tr>\n",
              "      <th>2</th>\n",
              "      <td>ciaz</td>\n",
              "      <td>2017</td>\n",
              "      <td>7.25</td>\n",
              "      <td>9.85</td>\n",
              "      <td>6900</td>\n",
              "      <td>Petrol</td>\n",
              "      <td>Dealer</td>\n",
              "      <td>Manual</td>\n",
              "      <td>0</td>\n",
              "    </tr>\n",
              "    <tr>\n",
              "      <th>3</th>\n",
              "      <td>wagon r</td>\n",
              "      <td>2011</td>\n",
              "      <td>2.85</td>\n",
              "      <td>4.15</td>\n",
              "      <td>5200</td>\n",
              "      <td>Petrol</td>\n",
              "      <td>Dealer</td>\n",
              "      <td>Manual</td>\n",
              "      <td>0</td>\n",
              "    </tr>\n",
              "    <tr>\n",
              "      <th>4</th>\n",
              "      <td>swift</td>\n",
              "      <td>2014</td>\n",
              "      <td>4.60</td>\n",
              "      <td>6.87</td>\n",
              "      <td>42450</td>\n",
              "      <td>Diesel</td>\n",
              "      <td>Dealer</td>\n",
              "      <td>Manual</td>\n",
              "      <td>0</td>\n",
              "    </tr>\n",
              "  </tbody>\n",
              "</table>\n",
              "</div>"
            ],
            "text/plain": [
              "  Car_Name  Year  Selling_Price  ...  Seller_Type  Transmission Owner\n",
              "0     ritz  2014           3.35  ...       Dealer        Manual     0\n",
              "1      sx4  2013           4.75  ...       Dealer        Manual     0\n",
              "2     ciaz  2017           7.25  ...       Dealer        Manual     0\n",
              "3  wagon r  2011           2.85  ...       Dealer        Manual     0\n",
              "4    swift  2014           4.60  ...       Dealer        Manual     0\n",
              "\n",
              "[5 rows x 9 columns]"
            ]
          },
          "metadata": {
            "tags": []
          },
          "execution_count": 27
        }
      ]
    },
    {
      "cell_type": "markdown",
      "metadata": {
        "id": "T5jJ1bPVwgP8"
      },
      "source": [
        "1 - Quantidade de linhas e colunas do Dataset;"
      ]
    },
    {
      "cell_type": "code",
      "metadata": {
        "colab": {
          "base_uri": "https://localhost:8080/"
        },
        "id": "BaTt3Djwk0dK",
        "outputId": "d66dd9ef-3585-4c4e-efed-96e81e7f46e3"
      },
      "source": [
        "carros.shape"
      ],
      "execution_count": 28,
      "outputs": [
        {
          "output_type": "execute_result",
          "data": {
            "text/plain": [
              "(301, 9)"
            ]
          },
          "metadata": {
            "tags": []
          },
          "execution_count": 28
        }
      ]
    },
    {
      "cell_type": "code",
      "metadata": {
        "colab": {
          "base_uri": "https://localhost:8080/",
          "height": 195
        },
        "id": "OIUbNChYlE_m",
        "outputId": "3dfd557e-4d24-4004-9639-4102c0245f88"
      },
      "source": [
        "#Vou alterar o nome das colunas para nomes em portugues\n",
        "\n",
        "carros.columns = \"nome_do_carro\", \"ano\",\t\"preco_de_venda\" , \"preco_atual\" ,\t\"km_dirigidos\",\t\"tipo_combustivel\" ,\t\"tipo_do_vendedor\"\t, \"transmissao\", \"dono\"\n",
        "carros.head()"
      ],
      "execution_count": 29,
      "outputs": [
        {
          "output_type": "execute_result",
          "data": {
            "text/html": [
              "<div>\n",
              "<style scoped>\n",
              "    .dataframe tbody tr th:only-of-type {\n",
              "        vertical-align: middle;\n",
              "    }\n",
              "\n",
              "    .dataframe tbody tr th {\n",
              "        vertical-align: top;\n",
              "    }\n",
              "\n",
              "    .dataframe thead th {\n",
              "        text-align: right;\n",
              "    }\n",
              "</style>\n",
              "<table border=\"1\" class=\"dataframe\">\n",
              "  <thead>\n",
              "    <tr style=\"text-align: right;\">\n",
              "      <th></th>\n",
              "      <th>nome_do_carro</th>\n",
              "      <th>ano</th>\n",
              "      <th>preco_de_venda</th>\n",
              "      <th>preco_atual</th>\n",
              "      <th>km_dirigidos</th>\n",
              "      <th>tipo_combustivel</th>\n",
              "      <th>tipo_do_vendedor</th>\n",
              "      <th>transmissao</th>\n",
              "      <th>dono</th>\n",
              "    </tr>\n",
              "  </thead>\n",
              "  <tbody>\n",
              "    <tr>\n",
              "      <th>0</th>\n",
              "      <td>ritz</td>\n",
              "      <td>2014</td>\n",
              "      <td>3.35</td>\n",
              "      <td>5.59</td>\n",
              "      <td>27000</td>\n",
              "      <td>Petrol</td>\n",
              "      <td>Dealer</td>\n",
              "      <td>Manual</td>\n",
              "      <td>0</td>\n",
              "    </tr>\n",
              "    <tr>\n",
              "      <th>1</th>\n",
              "      <td>sx4</td>\n",
              "      <td>2013</td>\n",
              "      <td>4.75</td>\n",
              "      <td>9.54</td>\n",
              "      <td>43000</td>\n",
              "      <td>Diesel</td>\n",
              "      <td>Dealer</td>\n",
              "      <td>Manual</td>\n",
              "      <td>0</td>\n",
              "    </tr>\n",
              "    <tr>\n",
              "      <th>2</th>\n",
              "      <td>ciaz</td>\n",
              "      <td>2017</td>\n",
              "      <td>7.25</td>\n",
              "      <td>9.85</td>\n",
              "      <td>6900</td>\n",
              "      <td>Petrol</td>\n",
              "      <td>Dealer</td>\n",
              "      <td>Manual</td>\n",
              "      <td>0</td>\n",
              "    </tr>\n",
              "    <tr>\n",
              "      <th>3</th>\n",
              "      <td>wagon r</td>\n",
              "      <td>2011</td>\n",
              "      <td>2.85</td>\n",
              "      <td>4.15</td>\n",
              "      <td>5200</td>\n",
              "      <td>Petrol</td>\n",
              "      <td>Dealer</td>\n",
              "      <td>Manual</td>\n",
              "      <td>0</td>\n",
              "    </tr>\n",
              "    <tr>\n",
              "      <th>4</th>\n",
              "      <td>swift</td>\n",
              "      <td>2014</td>\n",
              "      <td>4.60</td>\n",
              "      <td>6.87</td>\n",
              "      <td>42450</td>\n",
              "      <td>Diesel</td>\n",
              "      <td>Dealer</td>\n",
              "      <td>Manual</td>\n",
              "      <td>0</td>\n",
              "    </tr>\n",
              "  </tbody>\n",
              "</table>\n",
              "</div>"
            ],
            "text/plain": [
              "  nome_do_carro   ano  preco_de_venda  ...  tipo_do_vendedor  transmissao dono\n",
              "0          ritz  2014            3.35  ...            Dealer       Manual    0\n",
              "1           sx4  2013            4.75  ...            Dealer       Manual    0\n",
              "2          ciaz  2017            7.25  ...            Dealer       Manual    0\n",
              "3       wagon r  2011            2.85  ...            Dealer       Manual    0\n",
              "4         swift  2014            4.60  ...            Dealer       Manual    0\n",
              "\n",
              "[5 rows x 9 columns]"
            ]
          },
          "metadata": {
            "tags": []
          },
          "execution_count": 29
        }
      ]
    },
    {
      "cell_type": "markdown",
      "metadata": {
        "id": "cVps22qTxGZj"
      },
      "source": [
        "2 - Valores totais de uma coluna que possui valores numéricos. Escolhi para isso a coluna de \"Preço de venda\";"
      ]
    },
    {
      "cell_type": "code",
      "metadata": {
        "colab": {
          "base_uri": "https://localhost:8080/"
        },
        "id": "FeeI-wGlmHxy",
        "outputId": "6738d7ad-23e0-4b73-b89a-ffe7582a0c49"
      },
      "source": [
        "carros[\"preco_de_venda\"]"
      ],
      "execution_count": 30,
      "outputs": [
        {
          "output_type": "execute_result",
          "data": {
            "text/plain": [
              "0       3.35\n",
              "1       4.75\n",
              "2       7.25\n",
              "3       2.85\n",
              "4       4.60\n",
              "       ...  \n",
              "296     9.50\n",
              "297     4.00\n",
              "298     3.35\n",
              "299    11.50\n",
              "300     5.30\n",
              "Name: preco_de_venda, Length: 301, dtype: float64"
            ]
          },
          "metadata": {
            "tags": []
          },
          "execution_count": 30
        }
      ]
    },
    {
      "cell_type": "markdown",
      "metadata": {
        "id": "LI6Yr4e4xU73"
      },
      "source": [
        "3 - Valores únicos para o conjunto de \"Preço de venda\";"
      ]
    },
    {
      "cell_type": "code",
      "metadata": {
        "colab": {
          "base_uri": "https://localhost:8080/"
        },
        "id": "76XyI_djmKaW",
        "outputId": "c670124f-cd7a-4c81-c490-fed116cf138d"
      },
      "source": [
        "carros['preco_de_venda'].unique()"
      ],
      "execution_count": 31,
      "outputs": [
        {
          "output_type": "execute_result",
          "data": {
            "text/plain": [
              "array([ 3.35,  4.75,  7.25,  2.85,  4.6 ,  9.25,  6.75,  6.5 ,  8.75,\n",
              "        7.45,  6.85,  7.5 ,  6.1 ,  2.25,  7.75,  3.25,  2.65,  4.9 ,\n",
              "        4.4 ,  2.5 ,  2.9 ,  3.  ,  4.15,  6.  ,  1.95,  3.1 ,  2.35,\n",
              "        4.95,  5.5 ,  2.95,  4.65,  0.35,  5.85,  2.55,  1.25,  1.05,\n",
              "        5.8 , 14.9 , 23.  , 18.  , 16.  ,  2.75,  3.6 ,  4.5 ,  4.1 ,\n",
              "       19.99,  6.95, 18.75, 23.5 , 33.  , 19.75,  4.35, 14.25,  3.95,\n",
              "        1.5 ,  5.25, 14.5 , 14.73, 12.5 ,  3.49, 35.  ,  5.9 ,  3.45,\n",
              "        3.8 , 11.25,  3.51,  4.  , 20.75, 17.  ,  7.05,  9.65,  1.75,\n",
              "        1.7 ,  1.65,  1.45,  1.35,  1.2 ,  1.15,  1.11,  1.1 ,  1.  ,\n",
              "        0.95,  0.9 ,  0.75,  0.8 ,  0.78,  0.72,  0.65,  0.6 ,  0.55,\n",
              "        0.52,  0.51,  0.5 ,  0.48,  0.45,  0.42,  0.4 ,  0.38,  0.31,\n",
              "        0.3 ,  0.27,  0.25,  0.2 ,  0.18,  0.17,  0.16,  0.15,  0.12,\n",
              "        0.1 ,  5.75,  5.15,  7.9 ,  4.85, 11.75,  3.15,  6.45,  3.5 ,\n",
              "        8.25,  5.11,  2.7 ,  6.15, 11.45,  3.9 ,  9.1 ,  4.8 ,  2.  ,\n",
              "        5.35,  6.25,  5.95,  5.2 ,  3.75, 12.9 ,  5.  ,  5.4 ,  7.2 ,\n",
              "       10.25,  8.5 ,  8.4 ,  9.15,  6.6 ,  3.65,  8.35,  6.7 ,  5.3 ,\n",
              "       10.9 ,  8.65,  9.7 ,  2.1 ,  8.99,  7.4 ,  5.65, 10.11,  6.4 ,\n",
              "        8.55,  9.5 , 11.5 ])"
            ]
          },
          "metadata": {
            "tags": []
          },
          "execution_count": 31
        }
      ]
    },
    {
      "cell_type": "code",
      "metadata": {
        "colab": {
          "base_uri": "https://localhost:8080/"
        },
        "id": "WfGgI5IqPHpG",
        "outputId": "5867fb9a-b51f-4807-b3dc-b48ec1274f67"
      },
      "source": [
        "carros['preco_de_venda'].value_counts()"
      ],
      "execution_count": 32,
      "outputs": [
        {
          "output_type": "execute_result",
          "data": {
            "text/plain": [
              "0.60     8\n",
              "0.45     8\n",
              "5.25     7\n",
              "4.50     7\n",
              "4.75     6\n",
              "        ..\n",
              "19.99    1\n",
              "4.35     1\n",
              "0.80     1\n",
              "0.27     1\n",
              "7.20     1\n",
              "Name: preco_de_venda, Length: 156, dtype: int64"
            ]
          },
          "metadata": {
            "tags": []
          },
          "execution_count": 32
        }
      ]
    },
    {
      "cell_type": "markdown",
      "metadata": {
        "id": "Uno0YEN3psS0"
      },
      "source": [
        "5 - Visualização dos valores de \"Preços de vendas\" através de histograma e boxplot"
      ]
    },
    {
      "cell_type": "code",
      "metadata": {
        "id": "Fj2AVh_DzPbU"
      },
      "source": [
        "#Vou usar uma outra Biblioteca para visualizar esse conjunto de dados\n",
        "\n",
        "import seaborn as sns"
      ],
      "execution_count": 33,
      "outputs": []
    },
    {
      "cell_type": "code",
      "metadata": {
        "colab": {
          "base_uri": "https://localhost:8080/",
          "height": 282
        },
        "id": "DvC47Tuaw5sJ",
        "outputId": "59bfea97-c1de-4685-e0b5-d7f86c50f4da"
      },
      "source": [
        "#Através de histograma conseguimos saber quantas vezes aparece cada valor em \"Preço de venda\"\n",
        "\n",
        "carros.preco_de_venda.plot(kind='hist')"
      ],
      "execution_count": 34,
      "outputs": [
        {
          "output_type": "execute_result",
          "data": {
            "text/plain": [
              "<matplotlib.axes._subplots.AxesSubplot at 0x7f4130d9d990>"
            ]
          },
          "metadata": {
            "tags": []
          },
          "execution_count": 34
        },
        {
          "output_type": "display_data",
          "data": {
            "image/png": "[encoded data removed]",
            "text/plain": [
              "<Figure size 432x288 with 1 Axes>"
            ]
          },
          "metadata": {
            "tags": [],
            "needs_background": "light"
          }
        }
      ]
    },
    {
      "cell_type": "code",
      "metadata": {
        "colab": {
          "base_uri": "https://localhost:8080/",
          "height": 350
        },
        "id": "F4Q1QQixz3Xl",
        "outputId": "124dadc2-9b24-413b-f6d5-a570e0f1a2b4"
      },
      "source": [
        "#Boxplot da para os valores de \"Preço de vendas\"\n",
        "\n",
        "sns.boxplot(carros.preco_de_venda)"
      ],
      "execution_count": 35,
      "outputs": [
        {
          "output_type": "stream",
          "text": [
            "/usr/local/lib/python3.7/dist-packages/seaborn/_decorators.py:43: FutureWarning: Pass the following variable as a keyword arg: x. From version 0.12, the only valid positional argument will be `data`, and passing other arguments without an explicit keyword will result in an error or misinterpretation.\n",
            "  FutureWarning\n"
          ],
          "name": "stderr"
        },
        {
          "output_type": "execute_result",
          "data": {
            "text/plain": [
              "<matplotlib.axes._subplots.AxesSubplot at 0x7f4130d43190>"
            ]
          },
          "metadata": {
            "tags": []
          },
          "execution_count": 35
        },
        {
          "output_type": "display_data",
          "data": {
            "image/png": "[encoded data removed]",
            "text/plain": [
              "<Figure size 432x288 with 1 Axes>"
            ]
          },
          "metadata": {
            "tags": [],
            "needs_background": "light"
          }
        }
      ]
    },
    {
      "cell_type": "markdown",
      "metadata": {
        "id": "XQoPwdYp1BaO"
      },
      "source": [
        "6 - Dados descritivos, como média, mediana, desvio padrão, valores máximo e mínimo, entre outros;"
      ]
    },
    {
      "cell_type": "code",
      "metadata": {
        "colab": {
          "base_uri": "https://localhost:8080/"
        },
        "id": "MGO630AkyYM9",
        "outputId": "e3c40ac3-fadc-42bd-d298-c7c0879d2653"
      },
      "source": [
        "#Média e mediana?\n",
        "\n",
        "print(\"Média = \", carros.preco_de_venda.mean())\n",
        "print(\"Mediana = \", carros.preco_de_venda.median())"
      ],
      "execution_count": 36,
      "outputs": [
        {
          "output_type": "stream",
          "text": [
            "Média =  4.661295681063127\n",
            "Mediana =  3.6\n"
          ],
          "name": "stdout"
        }
      ]
    },
    {
      "cell_type": "code",
      "metadata": {
        "colab": {
          "base_uri": "https://localhost:8080/"
        },
        "id": "E0rrzlYuykhl",
        "outputId": "bd15df68-a18a-4a39-9129-e068d7318db6"
      },
      "source": [
        "#Medidas de descrição para o conjunto de preços de venda\n",
        "\n",
        "carros.preco_de_venda.describe()"
      ],
      "execution_count": 37,
      "outputs": [
        {
          "output_type": "execute_result",
          "data": {
            "text/plain": [
              "count    301.000000\n",
              "mean       4.661296\n",
              "std        5.082812\n",
              "min        0.100000\n",
              "25%        0.900000\n",
              "50%        3.600000\n",
              "75%        6.000000\n",
              "max       35.000000\n",
              "Name: preco_de_venda, dtype: float64"
            ]
          },
          "metadata": {
            "tags": []
          },
          "execution_count": 37
        }
      ]
    }
  ]
}